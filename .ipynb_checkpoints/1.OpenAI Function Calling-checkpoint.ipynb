{
 "cells": [
  {
   "cell_type": "code",
   "execution_count": 1,
   "id": "3d1a7aac-599c-4653-b497-49fe9a31a07d",
   "metadata": {
    "height": 115,
    "tags": []
   },
   "outputs": [],
   "source": [
    "import os\n",
    "import openai\n",
    "from openai import OpenAI\n",
    "\n",
    "from dotenv import load_dotenv\n",
    "load_dotenv(\".env\",override=True) # read local .env file\n",
    "openai.api_key = os.environ['OPENAI_API_KEY']"
   ]
  },
  {
   "cell_type": "code",
   "execution_count": 4,
   "id": "e036b435-e842-40a3-8e1c-1d5d716394c6",
   "metadata": {
    "height": 234
   },
   "outputs": [],
   "source": [
    "import json\n",
    "\n",
    "# Example dummy function hard coded to return the same weather\n",
    "# In production, this could be your backend API or an external API\n",
    "def get_current_weather(location, unit=\"fahrenheit\"):\n",
    "    \"\"\"Get the current weather in a given location\"\"\"\n",
    "    weather_info = {\n",
    "        \"location\": location,\n",
    "        \"temperature\": \"72\",\n",
    "        \"unit\": unit,\n",
    "        \"forecast\": [\"sunny\", \"windy\"],\n",
    "    }\n",
    "    return json.dumps(weather_info)"
   ]
  },
  {
   "cell_type": "code",
   "execution_count": 5,
   "id": "1067f71e-aa1e-4462-8051-ece093ab9462",
   "metadata": {},
   "outputs": [
    {
     "data": {
      "text/plain": [
       "'{\"location\": \"Pakistan\", \"temperature\": \"72\", \"unit\": \"fahrenheit\", \"forecast\": [\"sunny\", \"windy\"]}'"
      ]
     },
     "execution_count": 5,
     "metadata": {},
     "output_type": "execute_result"
    }
   ],
   "source": [
    "get_current_weather(\"Pakistan\")"
   ]
  },
  {
   "cell_type": "code",
   "execution_count": 6,
   "id": "173a0f6d-727a-481f-92ba-c5e93ce3158d",
   "metadata": {},
   "outputs": [],
   "source": [
    "tool1= {\n",
    "    \"type\": \"function\",\n",
    "    \"name\": \"get_current_weather\",\n",
    "    \"description\": \"Get the current weather in a given location\",\n",
    "    \"parameters\": {\n",
    "                \"type\": \"object\",\n",
    "                \"properties\": {\n",
    "                    \"location\": {\n",
    "                        \"type\": \"string\",\n",
    "                        \"description\": \"The city and state, e.g. San Francisco, CA\"\n",
    "                    },\n",
    "                    \"unit\": {\n",
    "                        \"type\": \"string\",\n",
    "                        \"enum\": [\"celsius\", \"fahrenheit\"]\n",
    "                    }\n",
    "                },\n",
    "    \"required\": [\"location\"]\n",
    "            }\n",
    "        }"
   ]
  },
  {
   "cell_type": "code",
   "execution_count": 7,
   "id": "55dc9115-966c-43d5-a4ac-85889a37626a",
   "metadata": {},
   "outputs": [
    {
     "data": {
      "text/plain": [
       "[{'type': 'function',\n",
       "  'name': 'get_current_weather',\n",
       "  'description': 'Get the current weather in a given location',\n",
       "  'parameters': {'type': 'object',\n",
       "   'properties': {'location': {'type': 'string',\n",
       "     'description': 'The city and state, e.g. San Francisco, CA'},\n",
       "    'unit': {'type': 'string', 'enum': ['celsius', 'fahrenheit']}},\n",
       "   'required': ['location']}}]"
      ]
     },
     "execution_count": 7,
     "metadata": {},
     "output_type": "execute_result"
    }
   ],
   "source": [
    "# Tool definition\n",
    "tools = [tool1]\n",
    "tools"
   ]
  },
  {
   "cell_type": "code",
   "execution_count": 8,
   "id": "5b5e2abe-7cf0-4b00-8c08-b3df91d78eaa",
   "metadata": {
    "height": 115
   },
   "outputs": [],
   "source": [
    "messages = [\n",
    "    {\n",
    "        \"role\": \"user\",\n",
    "        \"content\": \"What's the weather like in Boston in celsius?\"\n",
    "    }\n",
    "]"
   ]
  },
  {
   "cell_type": "code",
   "execution_count": 9,
   "id": "654fce05-7ef6-49d7-8d78-f190ecf3f0dd",
   "metadata": {
    "height": 30
   },
   "outputs": [],
   "source": [
    "client = OpenAI()"
   ]
  },
  {
   "cell_type": "code",
   "execution_count": 10,
   "id": "ffa6385a-db38-40fa-b2b8-6fa226913c46",
   "metadata": {
    "height": 132
   },
   "outputs": [],
   "source": [
    "# Call the ChatCompletion endpoint\n",
    "response = client.responses.create(\n",
    "    model=\"gpt-4.1-nano\",\n",
    "    input=messages,\n",
    "    tools=tools\n",
    ")"
   ]
  },
  {
   "cell_type": "code",
   "execution_count": 11,
   "id": "0e341605-5e3e-44d1-b64e-79c121aeb8d8",
   "metadata": {
    "height": 30
   },
   "outputs": [
    {
     "name": "stdout",
     "output_type": "stream",
     "text": [
      "Response(id='resp_6895d3f38948819eaf6e12e773bac53a02e086429f4cb193', created_at=1754649587.0, error=None, incomplete_details=None, instructions=None, metadata={}, model='gpt-4.1-nano-2025-04-14', object='response', output=[ResponseFunctionToolCall(arguments='{\"location\":\"Boston\",\"unit\":\"celsius\"}', call_id='call_zNgpIwnH9k4ss40gylMCnYAo', name='get_current_weather', type='function_call', id='fc_6895d3f40e88819ea1daccaeb475416d02e086429f4cb193', status='completed')], parallel_tool_calls=True, temperature=1.0, tool_choice='auto', tools=[FunctionTool(name='get_current_weather', parameters={'type': 'object', 'properties': {'location': {'type': 'string', 'description': 'The city and state, e.g. San Francisco, CA'}, 'unit': {'type': 'string', 'enum': ['celsius', 'fahrenheit']}}, 'required': ['location', 'unit'], 'additionalProperties': False}, strict=True, type='function', description='Get the current weather in a given location')], top_p=1.0, background=False, max_output_tokens=None, max_tool_calls=None, previous_response_id=None, prompt=None, reasoning=Reasoning(effort=None, generate_summary=None, summary=None), service_tier='default', status='completed', text=ResponseTextConfig(format=ResponseFormatText(type='text'), verbosity='medium'), top_logprobs=0, truncation='disabled', usage=ResponseUsage(input_tokens=76, input_tokens_details=InputTokensDetails(cached_tokens=0), output_tokens=37, output_tokens_details=OutputTokensDetails(reasoning_tokens=0), total_tokens=113), user=None, prompt_cache_key=None, safety_identifier=None, store=True)\n"
     ]
    }
   ],
   "source": [
    "print(response)"
   ]
  },
  {
   "cell_type": "code",
   "execution_count": 12,
   "id": "9b800319-3c28-47d3-b18c-c5541306b119",
   "metadata": {},
   "outputs": [
    {
     "data": {
      "text/plain": [
       "'function_call'"
      ]
     },
     "execution_count": 12,
     "metadata": {},
     "output_type": "execute_result"
    }
   ],
   "source": [
    "response.output[0].type"
   ]
  },
  {
   "cell_type": "code",
   "execution_count": 13,
   "id": "a7f733bd-e75b-4a84-9cbe-1a8c695015a3",
   "metadata": {
    "height": 30
   },
   "outputs": [
    {
     "data": {
      "text/plain": [
       "'{\"location\":\"Boston\",\"unit\":\"celsius\"}'"
      ]
     },
     "execution_count": 13,
     "metadata": {},
     "output_type": "execute_result"
    }
   ],
   "source": [
    "response.output[0].arguments"
   ]
  },
  {
   "cell_type": "code",
   "execution_count": 14,
   "id": "675d9372-4388-4f18-b44c-e291668ea46d",
   "metadata": {
    "height": 30
   },
   "outputs": [],
   "source": [
    "args = json.loads(response.output[0].arguments)"
   ]
  },
  {
   "cell_type": "code",
   "execution_count": 16,
   "id": "3cbb1aec-454a-4a34-9a6b-351ee3759a3a",
   "metadata": {
    "height": 30
   },
   "outputs": [
    {
     "data": {
      "text/plain": [
       "'{\"location\": \"Boston\", \"temperature\": \"72\", \"unit\": \"celsius\", \"forecast\": [\"sunny\", \"windy\"]}'"
      ]
     },
     "execution_count": 16,
     "metadata": {},
     "output_type": "execute_result"
    }
   ],
   "source": [
    "get_current_weather(**args)"
   ]
  },
  {
   "cell_type": "markdown",
   "id": "3774d311",
   "metadata": {},
   "source": [
    "* Pass a message that is not related to a function."
   ]
  },
  {
   "cell_type": "code",
   "execution_count": 17,
   "id": "8c2cbe66-784a-40ff-a268-7bd0f984d5b8",
   "metadata": {
    "height": 115
   },
   "outputs": [],
   "source": [
    "messages = [\n",
    "    {\n",
    "        \"role\": \"user\",\n",
    "        \"content\": \"hi!\",\n",
    "    }\n",
    "]"
   ]
  },
  {
   "cell_type": "code",
   "execution_count": 20,
   "id": "8300232d-4f02-478b-bba2-d47173422866",
   "metadata": {
    "height": 115
   },
   "outputs": [],
   "source": [
    "response = client.responses.create(\n",
    "    # OpenAI Updates: As of June 2024, we are now using the GPT-3.5-Turbo model\n",
    "    model=\"gpt-4.1-nano\",\n",
    "    input=messages,\n",
    "    tools=tools,\n",
    ")"
   ]
  },
  {
   "cell_type": "code",
   "execution_count": 21,
   "id": "3e35564e-8f66-4b06-b14a-03e24a202a47",
   "metadata": {
    "height": 30
   },
   "outputs": [
    {
     "name": "stdout",
     "output_type": "stream",
     "text": [
      "Response(id='resp_6895d4654ac4819da7fd002ba131097a0b04fc68f33f7e00', created_at=1754649701.0, error=None, incomplete_details=None, instructions=None, metadata={}, model='gpt-4.1-nano-2025-04-14', object='response', output=[ResponseOutputMessage(id='msg_6895d4659578819d9e76ad2cba26db6d0b04fc68f33f7e00', content=[ResponseOutputText(annotations=[], text='Hello! How can I assist you today?', type='output_text', logprobs=[])], role='assistant', status='completed', type='message')], parallel_tool_calls=True, temperature=1.0, tool_choice='auto', tools=[FunctionTool(name='get_current_weather', parameters={'type': 'object', 'properties': {'location': {'type': 'string', 'description': 'The city and state, e.g. San Francisco, CA'}, 'unit': {'type': 'string', 'enum': ['celsius', 'fahrenheit']}}, 'required': ['location', 'unit'], 'additionalProperties': False}, strict=True, type='function', description='Get the current weather in a given location')], top_p=1.0, background=False, max_output_tokens=None, max_tool_calls=None, previous_response_id=None, prompt=None, reasoning=Reasoning(effort=None, generate_summary=None, summary=None), service_tier='default', status='completed', text=ResponseTextConfig(format=ResponseFormatText(type='text'), verbosity='medium'), top_logprobs=0, truncation='disabled', usage=ResponseUsage(input_tokens=68, input_tokens_details=InputTokensDetails(cached_tokens=0), output_tokens=11, output_tokens_details=OutputTokensDetails(reasoning_tokens=0), total_tokens=79), user=None, prompt_cache_key=None, safety_identifier=None, store=True)\n"
     ]
    }
   ],
   "source": [
    "print(response)"
   ]
  },
  {
   "cell_type": "markdown",
   "id": "af7aae46",
   "metadata": {},
   "source": [
    "* Pass additional parameters to force the model to use or not a function."
   ]
  },
  {
   "cell_type": "code",
   "execution_count": 22,
   "id": "e2af9f72-1cb9-4a97-b030-22562ecab99d",
   "metadata": {
    "height": 251
   },
   "outputs": [
    {
     "name": "stdout",
     "output_type": "stream",
     "text": [
      "Response(id='resp_6895d4bae91081928dc63cbdd45855810ccafe713fe5e9ea', created_at=1754649786.0, error=None, incomplete_details=None, instructions=None, metadata={}, model='gpt-4.1-nano-2025-04-14', object='response', output=[ResponseOutputMessage(id='msg_6895d4bb303c81928c0f55ce308ea8690ccafe713fe5e9ea', content=[ResponseOutputText(annotations=[], text='Hello! How can I assist you today?', type='output_text', logprobs=[])], role='assistant', status='completed', type='message')], parallel_tool_calls=True, temperature=1.0, tool_choice='auto', tools=[FunctionTool(name='get_current_weather', parameters={'type': 'object', 'properties': {'location': {'type': 'string', 'description': 'The city and state, e.g. San Francisco, CA'}, 'unit': {'type': 'string', 'enum': ['celsius', 'fahrenheit']}}, 'required': ['location', 'unit'], 'additionalProperties': False}, strict=True, type='function', description='Get the current weather in a given location')], top_p=1.0, background=False, max_output_tokens=None, max_tool_calls=None, previous_response_id=None, prompt=None, reasoning=Reasoning(effort=None, generate_summary=None, summary=None), service_tier='default', status='completed', text=ResponseTextConfig(format=ResponseFormatText(type='text'), verbosity='medium'), top_logprobs=0, truncation='disabled', usage=ResponseUsage(input_tokens=68, input_tokens_details=InputTokensDetails(cached_tokens=0), output_tokens=11, output_tokens_details=OutputTokensDetails(reasoning_tokens=0), total_tokens=79), user=None, prompt_cache_key=None, safety_identifier=None, store=True)\n"
     ]
    }
   ],
   "source": [
    "messages = [\n",
    "    {\n",
    "        \"role\": \"user\",\n",
    "        \"content\": \"hi!\",\n",
    "    }\n",
    "]\n",
    "response = client.responses.create(\n",
    "    # OpenAI Updates: As of June 2024, we are now using the GPT-3.5-Turbo model\n",
    "    model=\"gpt-4.1-nano\",\n",
    "    input=messages,\n",
    "    tools=tools,\n",
    "    tool_choice=\"auto\",\n",
    ")\n",
    "print(response)"
   ]
  },
  {
   "cell_type": "markdown",
   "id": "284088e9",
   "metadata": {},
   "source": [
    "* Use mode 'none' for function call."
   ]
  },
  {
   "cell_type": "code",
   "execution_count": 23,
   "id": "6ba8cafc-f785-4595-9e3c-48b06424ee8b",
   "metadata": {
    "height": 251
   },
   "outputs": [
    {
     "name": "stdout",
     "output_type": "stream",
     "text": [
      "Response(id='resp_6895d4f6fdfc819d8a8b8a0e00b3589c0e5fcf4fc382e417', created_at=1754649847.0, error=None, incomplete_details=None, instructions=None, metadata={}, model='gpt-4.1-nano-2025-04-14', object='response', output=[ResponseOutputMessage(id='msg_6895d4f725d8819daec4a3cc38fbf29b0e5fcf4fc382e417', content=[ResponseOutputText(annotations=[], text='Hello! How can I assist you today?', type='output_text', logprobs=[])], role='assistant', status='completed', type='message')], parallel_tool_calls=True, temperature=1.0, tool_choice='none', tools=[FunctionTool(name='get_current_weather', parameters={'type': 'object', 'properties': {'location': {'type': 'string', 'description': 'The city and state, e.g. San Francisco, CA'}, 'unit': {'type': 'string', 'enum': ['celsius', 'fahrenheit']}}, 'required': ['location', 'unit'], 'additionalProperties': False}, strict=True, type='function', description='Get the current weather in a given location')], top_p=1.0, background=False, max_output_tokens=None, max_tool_calls=None, previous_response_id=None, prompt=None, reasoning=Reasoning(effort=None, generate_summary=None, summary=None), service_tier='default', status='completed', text=ResponseTextConfig(format=ResponseFormatText(type='text'), verbosity='medium'), top_logprobs=0, truncation='disabled', usage=ResponseUsage(input_tokens=69, input_tokens_details=InputTokensDetails(cached_tokens=0), output_tokens=10, output_tokens_details=OutputTokensDetails(reasoning_tokens=0), total_tokens=79), user=None, prompt_cache_key=None, safety_identifier=None, store=True)\n"
     ]
    }
   ],
   "source": [
    "messages = [\n",
    "    {\n",
    "        \"role\": \"user\",\n",
    "        \"content\": \"hi!\",\n",
    "    }\n",
    "]\n",
    "response = client.responses.create(\n",
    "\n",
    "    model=\"gpt-4.1-nano\",\n",
    "    input=messages,\n",
    "    tools=tools,\n",
    "    tool_choice=\"none\",\n",
    ")\n",
    "print(response)"
   ]
  },
  {
   "cell_type": "code",
   "execution_count": 25,
   "id": "a73a504f-a54f-4867-bb90-cf42f170ea62",
   "metadata": {},
   "outputs": [
    {
     "data": {
      "text/plain": [
       "'message'"
      ]
     },
     "execution_count": 25,
     "metadata": {},
     "output_type": "execute_result"
    }
   ],
   "source": [
    "response.output[0].type"
   ]
  },
  {
   "cell_type": "code",
   "execution_count": 26,
   "id": "5c959a80-5acf-455a-9358-9626c47f0bc2",
   "metadata": {},
   "outputs": [
    {
     "data": {
      "text/plain": [
       "'Hello! How can I assist you today?'"
      ]
     },
     "execution_count": 26,
     "metadata": {},
     "output_type": "execute_result"
    }
   ],
   "source": [
    "response.output_text"
   ]
  },
  {
   "cell_type": "markdown",
   "id": "ae05a76e",
   "metadata": {},
   "source": [
    "* When the message should call a function and still uses mode 'none'."
   ]
  },
  {
   "cell_type": "code",
   "execution_count": 27,
   "id": "ca7cc5a7-1572-4171-9016-9ec2871d389b",
   "metadata": {
    "height": 251
   },
   "outputs": [
    {
     "name": "stdout",
     "output_type": "stream",
     "text": [
      "Response(id='resp_6895d5c64940819ea2c123239817fdf20758d5931121a7f6', created_at=1754650054.0, error=None, incomplete_details=None, instructions=None, metadata={}, model='gpt-4.1-nano-2025-04-14', object='response', output=[ResponseOutputMessage(id='msg_6895d5c6792c819e9b56d84c21e2ea6f0758d5931121a7f6', content=[ResponseOutputText(annotations=[], text='I will check the current weather in Boston for you.', type='output_text', logprobs=[])], role='assistant', status='completed', type='message'), ResponseOutputMessage(id='msg_6895d5c6c5ec819ebebdfcc671d615290758d5931121a7f6', content=[ResponseOutputText(annotations=[], text=\"I'll find out the current weather in Boston.\", type='output_text', logprobs=[])], role='assistant', status='completed', type='message'), ResponseOutputMessage(id='msg_6895d5c700a8819e9a0e20e464dd0b3a0758d5931121a7f6', content=[ResponseOutputText(annotations=[], text=\"Let's see the weather in Boston.\", type='output_text', logprobs=[])], role='assistant', status='completed', type='message'), ResponseOutputMessage(id='msg_6895d5c81548819ea1a649c907d070b70758d5931121a7f6', content=[ResponseOutputText(annotations=[], text=\"I'll now look up the current weather in Boston.\", type='output_text', logprobs=[])], role='assistant', status='completed', type='message'), ResponseOutputMessage(id='msg_6895d5c8573c819eac93922245b6c53f0758d5931121a7f6', content=[ResponseOutputText(annotations=[], text=\"I'll use the weather service to get the current weather in Boston.\", type='output_text', logprobs=[])], role='assistant', status='completed', type='message'), ResponseOutputMessage(id='msg_6895d5c8a380819eaf6f3af8469dcd2f0758d5931121a7f6', content=[ResponseOutputText(annotations=[], text=\"Let's find out the current weather in Boston.\", type='output_text', logprobs=[])], role='assistant', status='completed', type='message'), ResponseOutputMessage(id='msg_6895d5c8e7b4819e856590a60736a48e0758d5931121a7f6', content=[ResponseOutputText(annotations=[], text=\"I'll check the current weather in Boston now.\", type='output_text', logprobs=[])], role='assistant', status='completed', type='message'), ResponseOutputMessage(id='msg_6895d5c92bc8819e8c20e61a08c09c090758d5931121a7f6', content=[ResponseOutputText(annotations=[], text=\"I'll use the weather service to get the current weather in Boston.\", type='output_text', logprobs=[])], role='assistant', status='completed', type='message'), ResponseOutputMessage(id='msg_6895d5c9888c819e90d017f2a2a7145a0758d5931121a7f6', content=[ResponseOutputText(annotations=[], text=\"Let's find out the current weather in Boston.\", type='output_text', logprobs=[])], role='assistant', status='completed', type='message'), ResponseOutputMessage(id='msg_6895d5c9dab4819ea314023c9ba04b650758d5931121a7f6', content=[ResponseOutputText(annotations=[], text=\"I'll check the current weather in Boston now.\", type='output_text', logprobs=[])], role='assistant', status='completed', type='message'), ResponseOutputMessage(id='msg_6895d5ca323c819ebc94e27f59b8eece0758d5931121a7f6', content=[ResponseOutputText(annotations=[], text=\"I'll use the weather service to get the current weather in Boston.\", type='output_text', logprobs=[])], role='assistant', status='completed', type='message'), ResponseOutputMessage(id='msg_6895d5ca8bb0819ebc4b2a312f543f7b0758d5931121a7f6', content=[ResponseOutputText(annotations=[], text=\"Let's find out the current weather in Boston.\", type='output_text', logprobs=[])], role='assistant', status='completed', type='message'), ResponseOutputMessage(id='msg_6895d5cabfd0819e9a47ff63c1ee70780758d5931121a7f6', content=[ResponseOutputText(annotations=[], text=\"I'll check the current weather in Boston now.\", type='output_text', logprobs=[])], role='assistant', status='completed', type='message'), ResponseOutputMessage(id='msg_6895d5cb05f8819ea35f1657ab9077460758d5931121a7f6', content=[ResponseOutputText(annotations=[], text=\"I'll use the weather service to get the current weather in Boston.\", type='output_text', logprobs=[])], role='assistant', status='completed', type='message'), ResponseOutputMessage(id='msg_6895d5cb58c0819ebd417a2ca8d56ab50758d5931121a7f6', content=[ResponseOutputText(annotations=[], text=\"Let's find out the current weather in Boston.\", type='output_text', logprobs=[])], role='assistant', status='completed', type='message'), ResponseOutputMessage(id='msg_6895d5cba00c819eb2e97a227d1769970758d5931121a7f6', content=[ResponseOutputText(annotations=[], text=\"I'll check the current weather in Boston now.\", type='output_text', logprobs=[])], role='assistant', status='completed', type='message'), ResponseOutputMessage(id='msg_6895d5cc2770819e9df845094611c4f60758d5931121a7f6', content=[ResponseOutputText(annotations=[], text=\"I'll use the weather service to get the current weather in Boston.\", type='output_text', logprobs=[])], role='assistant', status='completed', type='message'), ResponseOutputMessage(id='msg_6895d5cc7968819e8127c35620bf2ae00758d5931121a7f6', content=[ResponseOutputText(annotations=[], text=\"Let's find out the current weather in Boston.\", type='output_text', logprobs=[])], role='assistant', status='completed', type='message'), ResponseOutputMessage(id='msg_6895d5cccc74819e99ba4961b36f0b0a0758d5931121a7f6', content=[ResponseOutputText(annotations=[], text=\"I'll check the current weather in Boston now.\", type='output_text', logprobs=[])], role='assistant', status='completed', type='message'), ResponseOutputMessage(id='msg_6895d5cf1cbc819ea58af29b9a5a5b180758d5931121a7f6', content=[ResponseOutputText(annotations=[], text=\"I'll use the weather service to get the current weather in Boston.\", type='output_text', logprobs=[])], role='assistant', status='completed', type='message')], parallel_tool_calls=True, temperature=1.0, tool_choice='none', tools=[FunctionTool(name='get_current_weather', parameters={'type': 'object', 'properties': {'location': {'type': 'string', 'description': 'The city and state, e.g. San Francisco, CA'}, 'unit': {'type': 'string', 'enum': ['celsius', 'fahrenheit']}}, 'required': ['location', 'unit'], 'additionalProperties': False}, strict=True, type='function', description='Get the current weather in a given location')], top_p=1.0, background=False, max_output_tokens=None, max_tool_calls=None, previous_response_id=None, prompt=None, reasoning=Reasoning(effort=None, generate_summary=None, summary=None), service_tier='default', status='completed', text=ResponseTextConfig(format=ResponseFormatText(type='text'), verbosity='medium'), top_logprobs=0, truncation='disabled', usage=ResponseUsage(input_tokens=4045, input_tokens_details=InputTokensDetails(cached_tokens=0), output_tokens=225, output_tokens_details=OutputTokensDetails(reasoning_tokens=0), total_tokens=4270), user=None, prompt_cache_key=None, safety_identifier=None, store=True)\n"
     ]
    }
   ],
   "source": [
    "messages = [\n",
    "    {\n",
    "        \"role\": \"user\",\n",
    "        \"content\": \"What's the weather in Boston?\",\n",
    "    }\n",
    "]\n",
    "response = client.responses.create(\n",
    "\n",
    "    model=\"gpt-4.1-nano\",\n",
    "    input=messages,\n",
    "    tools=tools,\n",
    "    tool_choice=\"none\",\n",
    ")\n",
    "print(response)"
   ]
  },
  {
   "cell_type": "code",
   "execution_count": 28,
   "id": "6b7abe26-40d8-4e3e-bc58-58dec95602c5",
   "metadata": {},
   "outputs": [
    {
     "data": {
      "text/plain": [
       "'message'"
      ]
     },
     "execution_count": 28,
     "metadata": {},
     "output_type": "execute_result"
    }
   ],
   "source": [
    "response.output[0].type"
   ]
  },
  {
   "cell_type": "markdown",
   "id": "38735d9f",
   "metadata": {},
   "source": [
    "* Force calling a function."
   ]
  },
  {
   "cell_type": "code",
   "execution_count": 42,
   "id": "282a92ba-5677-4c72-b556-d29e6a4152a0",
   "metadata": {
    "height": 251
   },
   "outputs": [
    {
     "name": "stdout",
     "output_type": "stream",
     "text": [
      "Response(id='resp_6895dc0dea848191b1ff3634161db3d10066416bf1ff5f2a', created_at=1754651662.0, error=None, incomplete_details=None, instructions=None, metadata={}, model='gpt-4.1-nano-2025-04-14', object='response', output=[ResponseFunctionToolCall(arguments='{\"location\":\"New York, NY\",\"unit\":\"fahrenheit\"}', call_id='call_RwqPRi0PtdcsiC0vEg2lbHLX', name='get_current_weather', type='function_call', id='fc_6895dc0ed42881919c71da958e659ded0066416bf1ff5f2a', status='completed')], parallel_tool_calls=True, temperature=1.0, tool_choice=ToolChoiceFunction(name='get_current_weather', type='function'), tools=[FunctionTool(name='get_current_weather', parameters={'type': 'object', 'properties': {'location': {'type': 'string', 'description': 'The city and state, e.g. San Francisco, CA'}, 'unit': {'type': 'string', 'enum': ['celsius', 'fahrenheit']}}, 'required': ['location', 'unit'], 'additionalProperties': False}, strict=True, type='function', description='Get the current weather in a given location')], top_p=1.0, background=False, max_output_tokens=None, max_tool_calls=None, previous_response_id=None, prompt=None, reasoning=Reasoning(effort=None, generate_summary=None, summary=None), service_tier='default', status='completed', text=ResponseTextConfig(format=ResponseFormatText(type='text'), verbosity='medium'), top_logprobs=0, truncation='disabled', usage=ResponseUsage(input_tokens=78, input_tokens_details=InputTokensDetails(cached_tokens=0), output_tokens=14, output_tokens_details=OutputTokensDetails(reasoning_tokens=0), total_tokens=92), user=None, prompt_cache_key=None, safety_identifier=None, store=True)\n"
     ]
    }
   ],
   "source": [
    "messages = [\n",
    "    {\n",
    "        \"role\": \"user\",\n",
    "        \"content\": \"hi!\",\n",
    "    }\n",
    "]\n",
    "\n",
    "response = client.responses.create(\n",
    "\n",
    "    model=\"gpt-4.1-nano\",\n",
    "    input=messages,\n",
    "    tools=tools,\n",
    "    tool_choice={\"type\": \"function\",\"name\": \"get_current_weather\"}\n",
    ")\n",
    "    \n",
    "\n",
    "print(response)"
   ]
  },
  {
   "cell_type": "code",
   "execution_count": 43,
   "id": "c16e5991-35a7-4cb7-bbe4-e5995c6ac86f",
   "metadata": {},
   "outputs": [
    {
     "data": {
      "text/plain": [
       "'function_call'"
      ]
     },
     "execution_count": 43,
     "metadata": {},
     "output_type": "execute_result"
    }
   ],
   "source": [
    "response.output[0].type"
   ]
  },
  {
   "cell_type": "code",
   "execution_count": 44,
   "id": "94518392-cfa0-4e91-9c1e-28f7026a5404",
   "metadata": {},
   "outputs": [
    {
     "data": {
      "text/plain": [
       "'{\"location\":\"New York, NY\",\"unit\":\"fahrenheit\"}'"
      ]
     },
     "execution_count": 44,
     "metadata": {},
     "output_type": "execute_result"
    }
   ],
   "source": [
    "response.output[0].arguments"
   ]
  },
  {
   "cell_type": "markdown",
   "id": "b27abbdc",
   "metadata": {},
   "source": [
    "* Final notes."
   ]
  },
  {
   "cell_type": "code",
   "execution_count": 106,
   "id": "3c5229a4-2700-48b4-b2b9-3b1e1535f903",
   "metadata": {
    "height": 251
   },
   "outputs": [
    {
     "name": "stdout",
     "output_type": "stream",
     "text": [
      "Response(id='resp_6895e0725d7c81a3afea2cf3de1bf4070df4311ac2629d7a', created_at=1754652786.0, error=None, incomplete_details=None, instructions=None, metadata={}, model='gpt-4.1-nano-2025-04-14', object='response', output=[ResponseFunctionToolCall(arguments='{\"location\":\"Boston\"}', call_id='call_GoD8nn3hqkInf2E95uififc9', name='get_current_weather', type='function_call', id='fc_6895e072baec81a39ce9d7c41a92995a0df4311ac2629d7a', status='completed')], parallel_tool_calls=True, temperature=1.0, tool_choice=ToolChoiceFunction(name='get_current_weather', type='function'), tools=[FunctionTool(name='get_horoscope', parameters={'type': 'object', 'properties': {'sign': {'type': 'string', 'description': 'An astrological sign like Taurus or Aquarius'}}, 'required': ['sign'], 'additionalProperties': False}, strict=True, type='function', description=\"Get today's horoscope for an astrological sign.\")], top_p=1.0, background=False, max_output_tokens=None, max_tool_calls=None, previous_response_id=None, prompt=None, reasoning=Reasoning(effort=None, generate_summary=None, summary=None), service_tier='default', status='completed', text=ResponseTextConfig(format=ResponseFormatText(type='text'), verbosity='medium'), top_logprobs=0, truncation='disabled', usage=ResponseUsage(input_tokens=69, input_tokens_details=InputTokensDetails(cached_tokens=0), output_tokens=6, output_tokens_details=OutputTokensDetails(reasoning_tokens=0), total_tokens=75), user=None, prompt_cache_key=None, safety_identifier=None, store=True)\n"
     ]
    }
   ],
   "source": [
    "messages = [\n",
    "    {\n",
    "        \"role\": \"user\",\n",
    "        \"content\": \"What's the weather like in Boston!\",\n",
    "    }\n",
    "]\n",
    "response = client.responses.create(\n",
    "\n",
    "    model=\"gpt-4.1-nano\",\n",
    "    input=messages,\n",
    "    tools=tools,\n",
    "    tool_choice={\"type\": \"function\",\"name\": \"get_current_weather\"}\n",
    ")\n",
    "print(response)"
   ]
  },
  {
   "cell_type": "code",
   "execution_count": 107,
   "id": "d2d20e4f-96cd-4cbd-a0f1-f45c3803d26f",
   "metadata": {},
   "outputs": [
    {
     "data": {
      "text/plain": [
       "[ResponseFunctionToolCall(arguments='{\"location\":\"Boston\"}', call_id='call_GoD8nn3hqkInf2E95uififc9', name='get_current_weather', type='function_call', id='fc_6895e072baec81a39ce9d7c41a92995a0df4311ac2629d7a', status='completed')]"
      ]
     },
     "execution_count": 107,
     "metadata": {},
     "output_type": "execute_result"
    }
   ],
   "source": [
    "response.output"
   ]
  },
  {
   "cell_type": "code",
   "execution_count": 108,
   "id": "c02fa6c2-b824-49c4-815c-4734d5955ae7",
   "metadata": {},
   "outputs": [],
   "source": [
    "function_call = None\n",
    "function_call_arguments = None\n",
    "for item in response.output:\n",
    "    if item.type == \"function_call\":\n",
    "        function_call = item\n",
    "        function_call_arguments = json.loads(item.arguments)"
   ]
  },
  {
   "cell_type": "code",
   "execution_count": 109,
   "id": "e99ccf4c-7690-44f1-bbfe-6f2045d058cd",
   "metadata": {},
   "outputs": [
    {
     "data": {
      "text/plain": [
       "{'location': 'Boston'}"
      ]
     },
     "execution_count": 109,
     "metadata": {},
     "output_type": "execute_result"
    }
   ],
   "source": [
    "function_call_arguments"
   ]
  },
  {
   "cell_type": "code",
   "execution_count": 110,
   "id": "c817376f-3a7f-4448-acdd-1639c70d42e4",
   "metadata": {
    "height": 47
   },
   "outputs": [],
   "source": [
    "observation = get_current_weather(**function_call_arguments)"
   ]
  },
  {
   "cell_type": "code",
   "execution_count": 111,
   "id": "0a973ed8-d3b6-4d73-a068-1f544fe6bd07",
   "metadata": {},
   "outputs": [
    {
     "data": {
      "text/plain": [
       "'{\"location\": \"Boston\", \"temperature\": \"72\", \"unit\": \"fahrenheit\", \"forecast\": [\"sunny\", \"windy\"]}'"
      ]
     },
     "execution_count": 111,
     "metadata": {},
     "output_type": "execute_result"
    }
   ],
   "source": [
    "observation"
   ]
  },
  {
   "cell_type": "code",
   "execution_count": 112,
   "id": "e9f653e5-d39c-4bc4-bb9c-eecd8419e3cb",
   "metadata": {},
   "outputs": [
    {
     "data": {
      "text/plain": [
       "'fc_6895e072baec81a39ce9d7c41a92995a0df4311ac2629d7a'"
      ]
     },
     "execution_count": 112,
     "metadata": {},
     "output_type": "execute_result"
    }
   ],
   "source": [
    "function_call.id"
   ]
  },
  {
   "cell_type": "code",
   "execution_count": 113,
   "id": "63454808-10a2-4301-9977-89aa79018152",
   "metadata": {
    "height": 132
   },
   "outputs": [],
   "source": [
    "messages.append(\n",
    "        {\n",
    "            \"role\": \"assistant\",\n",
    "            \"content\": observation,\n",
    "        }\n",
    ")"
   ]
  },
  {
   "cell_type": "code",
   "execution_count": 114,
   "id": "5616733d-945d-48df-87eb-cbed81033e9e",
   "metadata": {},
   "outputs": [
    {
     "data": {
      "text/plain": [
       "[{'role': 'user', 'content': \"What's the weather like in Boston!\"},\n",
       " {'role': 'assistant',\n",
       "  'content': '{\"location\": \"Boston\", \"temperature\": \"72\", \"unit\": \"fahrenheit\", \"forecast\": [\"sunny\", \"windy\"]}'}]"
      ]
     },
     "execution_count": 114,
     "metadata": {},
     "output_type": "execute_result"
    }
   ],
   "source": [
    "messages"
   ]
  },
  {
   "cell_type": "code",
   "execution_count": 115,
   "id": "f323fb69-c907-4f19-a2d9-80d828b4a5c2",
   "metadata": {
    "height": 98
   },
   "outputs": [
    {
     "name": "stdout",
     "output_type": "stream",
     "text": [
      "Response(id='resp_6895e075de20819da6feda1e454696f506139f7d15e5eb98', created_at=1754652789.0, error=None, incomplete_details=None, instructions=None, metadata={}, model='gpt-4.1-nano-2025-04-14', object='response', output=[ResponseOutputMessage(id='msg_6895e0762ce0819db073b7bd34b07bb506139f7d15e5eb98', content=[ResponseOutputText(annotations=[], text='The current weather in Boston is approximately 72°F with sunny skies and windy conditions.', type='output_text', logprobs=[])], role='assistant', status='completed', type='message')], parallel_tool_calls=True, temperature=1.0, tool_choice='auto', tools=[], top_p=1.0, background=False, max_output_tokens=None, max_tool_calls=None, previous_response_id=None, prompt=None, reasoning=Reasoning(effort=None, generate_summary=None, summary=None), service_tier='default', status='completed', text=ResponseTextConfig(format=ResponseFormatText(type='text'), verbosity='medium'), top_logprobs=0, truncation='disabled', usage=ResponseUsage(input_tokens=49, input_tokens_details=InputTokensDetails(cached_tokens=0), output_tokens=18, output_tokens_details=OutputTokensDetails(reasoning_tokens=0), total_tokens=67), user=None, prompt_cache_key=None, safety_identifier=None, store=True)\n"
     ]
    }
   ],
   "source": [
    "response = client.responses.create(\n",
    "    model=\"gpt-4.1-nano\",\n",
    "    input=messages,\n",
    ")\n",
    "print(response)"
   ]
  },
  {
   "cell_type": "code",
   "execution_count": 116,
   "id": "7f71b4b8-3a1c-4c19-9d65-d50340207dca",
   "metadata": {
    "height": 30
   },
   "outputs": [
    {
     "data": {
      "text/plain": [
       "'The current weather in Boston is approximately 72°F with sunny skies and windy conditions.'"
      ]
     },
     "execution_count": 116,
     "metadata": {},
     "output_type": "execute_result"
    }
   ],
   "source": [
    "response.output_text"
   ]
  },
  {
   "cell_type": "code",
   "execution_count": null,
   "id": "ca98ceb2-0feb-49c6-9889-70e9b52300e1",
   "metadata": {
    "height": 30
   },
   "outputs": [],
   "source": []
  },
  {
   "cell_type": "code",
   "execution_count": null,
   "id": "ec827289-00c7-444e-aeb2-1e7404fbc15c",
   "metadata": {
    "height": 30
   },
   "outputs": [],
   "source": []
  }
 ],
 "metadata": {
  "kernelspec": {
   "display_name": "Python 3 (ipykernel)",
   "language": "python",
   "name": "python3"
  },
  "language_info": {
   "codemirror_mode": {
    "name": "ipython",
    "version": 3
   },
   "file_extension": ".py",
   "mimetype": "text/x-python",
   "name": "python",
   "nbconvert_exporter": "python",
   "pygments_lexer": "ipython3",
   "version": "3.12.7"
  }
 },
 "nbformat": 4,
 "nbformat_minor": 5
}
